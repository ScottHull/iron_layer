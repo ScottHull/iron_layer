{
 "cells": [
  {
   "cell_type": "code",
   "execution_count": 122,
   "metadata": {
    "pycharm": {
     "name": "#%%\n"
    }
   },
   "outputs": [],
   "source": [
    "%matplotlib inline\n",
    "from math import pi\n",
    "import pandas as pd\n",
    "from statistics import mean\n",
    "import matplotlib.pyplot as plt"
   ]
  },
  {
   "cell_type": "code",
   "execution_count": 123,
   "metadata": {},
   "outputs": [],
   "source": [
    "# declare parameters\n",
    "earth_radius = 6371 * 1000\n",
    "k_lower = 43  # W/K m, the lower estimate on core conductive heat flux (Reese & Solomotov 2010)\n",
    "k_upper = 88  # W/K m, the upper estimate on core conductive heat flux (Reese & Solomotov 2010)\n",
    "reynolds_magnetic_critical = 10  # the critical Magnetic Reynolds Number for a magnetic field (Reese & Solomotov 2010)\n",
    "mu_0 = 4 * pi * 10 ** -7  # N/A^2, permeability of free space\n",
    "sigma = 10 ** 6  # S/m, the core electrical conductivity\n",
    "c_c = 840  # J/K kg, the core heat capacity (Reese * Solomotov 2010)\n",
    "alpha_c = 3 * 10 ** -5  # K^-1, the core thermal expansivity (Reese * Solomotov 2010)\n",
    "assumed_dT = 0  # the assumed delta temperature due to impact heating (WARNING: along the isentrope, heating may be flat!)\n",
    "grav_iron_layer = 3.8  # gravitational acceleration at the iron layer depth\n",
    "core_radius = 3486 * 1000"
   ]
  },
  {
   "cell_type": "code",
   "execution_count": 124,
   "metadata": {
    "pycharm": {
     "name": "#%%\n"
    }
   },
   "outputs": [],
   "source": [
    "# declare parameters to assess the thermal expansion model of the iron layer from SPH outputs\n",
    "# recall, SPH will underestimate density of the layer due to contact with mantle material boundary\n",
    "start_file = \"0.csv\"\n",
    "end_file = \"1000.csv\"\n",
    "iron_eos = \"phase_data/iron_STS.table.txt\"  # the EoS datatable for iron\n",
    "start_df = pd.read_csv(start_file, skiprows=2)\n",
    "end_df = pd.read_csv(end_file, skiprows=2)"
   ]
  },
  {
   "cell_type": "code",
   "execution_count": 125,
   "metadata": {
    "pycharm": {
     "name": "#%%\n"
    }
   },
   "outputs": [
    {
     "name": "stdout",
     "output_type": "stream",
     "text": [
      "Impactor Iron Mean Entropy (t = 0): 1499.6601472124637\n",
      "Iron Layer Mass (t = end): 2.2053712615394243e+23 kg \n",
      "Impactor Iron Initial Density (t = 0): 9029.718231186287\n"
     ]
    }
   ],
   "source": [
    "# extract SPH data for given parameters above\n",
    "impactor_iron_start = start_df[start_df['tag'] == 3]  # all impactor iron particles at time 0 (pre-impact)\n",
    "impactor_iron_rho0 = mean(impactor_iron_start['density'])  # rho0 of impactor iron at time 0 (pre-impact)\n",
    "impactor_iron_entropy = mean(impactor_iron_start['entropy'])  # entropy of impactor iron at time 0 (pre-impact)\n",
    "impactor_iron_end = end_df[end_df['tag'] == 3]  # all impactor iron particles at end time (post-impact)\n",
    "iron_layer_particles = impactor_iron_end[impactor_iron_end['radius'] < earth_radius]  # all impactor iron that composes the iron layer at end time (post-impact)\n",
    "iron_layer_mass = sum(iron_layer_particles['mass'])  # the mass of the iron layer\n",
    "print(\n",
    "    \"Impactor Iron Mean Entropy (t = 0): {}\\n\"\n",
    "    \"Iron Layer Mass (t = end): {} kg \\n\"\n",
    "    \"Impactor Iron Initial Density (t = 0): {}\".format(impactor_iron_entropy, iron_layer_mass, impactor_iron_rho0)\n",
    ")"
   ]
  },
  {
   "cell_type": "code",
   "execution_count": 126,
   "metadata": {
    "pycharm": {
     "name": "#%%\n"
    }
   },
   "outputs": [],
   "source": [
    "# declare functions to assess the thermal expansion model of the iron layer from SPH outputs\n",
    "def delta_rho(alpha, rho_0, delta_T):\n",
    "    \"\"\"\n",
    "    The change in density due to heating.\n",
    "    :param alpha:\n",
    "    :param rho_0:\n",
    "    :param delta_T:\n",
    "    :return:\n",
    "    \"\"\"\n",
    "    return - alpha * rho_0 * delta_T\n",
    "\n",
    "def iron_layer_thickness(density, mass, core_radius):\n",
    "    volume = mass / density  # rho = m / v --> v * rho = m --> v = m / rho\n",
    "    radius_shell = (((3 / (4 * pi)) * volume) + (core_radius ** 3)) ** (1 / 3)\n",
    "    thickness = radius_shell - core_radius\n",
    "    return thickness\n",
    "\n",
    "def isentropes(eos, tareget_s):\n",
    "    phase_df = pd.read_fwf(eos, skiprows=1,\n",
    "                           names=[\"density\", \"temperature\", \"internal_energy\", \"pressure\", \"soundspeed\", \"entropy\"])  # load the EoS datatable\n",
    "    phase_df = phase_df[phase_df['entropy'] > 0]\n",
    "    phase_df = phase_df[phase_df['entropy'] < 15000]\n",
    "    phase_df = phase_df[phase_df['density'] >= 5]\n",
    "    fig = plt.figure(figsize=(16, 9))\n",
    "    ax = fig.add_subplot(111)\n",
    "    sc = ax.tricontour(phase_df['density'], phase_df['temperature'], phase_df['entropy'], levels=10)\n",
    "    c = ax.tricontour(phase_df['density'], phase_df['temperature'], phase_df['entropy'], levels=[tareget_s])\n",
    "    # plt.clabel(sc, inline=1, fontsize=12)\n",
    "    plt.clabel(c, inline=1, fontsize=14)\n",
    "    fig.colorbar(sc, ax=ax)\n",
    "    p = c.collections[0].get_paths()[0]\n",
    "    v = p.vertices\n",
    "    x = v[:,0]\n",
    "    y = v[:,1]\n",
    "    ax.set_xlim(0, 10000)\n",
    "    ax.set_ylim(0, 10000)\n",
    "    ax.set_xlabel(\"Density\"), ax.set_ylabel(\"Temperature\"), ax.set_title(\"Isentropic Contours\")\n",
    "    ax.grid()\n",
    "    plt.show()\n",
    "    return x, y\n",
    "\n",
    "def isentropic_heating(eos, density, entropy):\n",
    "    \"\"\"\n",
    "    If all heating is isentropic and the material thermally expands, then S will remain constant and rho, T will change.\n",
    "    Therefore, T(rho) can be determined along a constant S curve.\n",
    "    :param eos:\n",
    "    :return:\n",
    "    \"\"\"\n",
    "    phase_df = pd.read_fwf(eos, skiprows=2,\n",
    "                           names=[\"density\", \"internal_energy\", \"temperature\", \"pressure\", \"soundspeed\", \"entropy\"])  # load the EoS datatable\n",
    "    all_isentropes = set(phase_df['entropy'])  # get all unique values for entropy\n",
    "    # get the closest isentrope to the given entropy value\n",
    "    min_diff, target_s = 1e10, None\n",
    "    for s in all_isentropes:\n",
    "        diff = abs(entropy - s)\n",
    "        if diff < min_diff:\n",
    "            min_diff, target_s = diff, s\n",
    "    isentrope_rho, isentrope_temp = isentropes(eos=eos, tareget_s=target_s)\n",
    "    min_diff, target_rho, target_t = 1e10, None, None\n",
    "    for index, rho in enumerate(isentrope_rho):\n",
    "        diff = abs(density - rho)\n",
    "        if diff < min_diff:\n",
    "            min_diff, target_rho, target_t = diff, rho, isentrope_temp[index]\n",
    "\n",
    "    print(\n",
    "        \"Target S: {}, (input: {})\\nTarget rho: {} (input: {})\\nTarget T: {}\".format(target_s, entropy, target_rho, density, target_t)\n",
    "    )\n",
    "\n",
    "    # plot the isentrope\n",
    "    fig = plt.figure(figsize=(16, 9))\n",
    "    ax = fig.add_subplot(111)\n",
    "    ax.plot(\n",
    "        isentrope_rho, isentrope_temp, linewidth=2.0, color='red', label=\"Isentrope\"\n",
    "    )\n",
    "    ax.scatter(\n",
    "        target_rho, target_t, color='black', marker=\"*\", s=40, label=\"Target T(rho)\"\n",
    "    )\n",
    "    ax.set_xlabel(\"Density\"), ax.set_ylabel(\"Temperature\"), ax.set_title(\"Isentropic Heating\")\n",
    "    ax.set_xlim(0, 10000)\n",
    "    ax.set_ylim(0, 10000)\n",
    "    ax.grid()\n",
    "    ax.legend()\n",
    "    plt.savefig(\"isentrope.png\", format='png')\n",
    "    plt.show()\n",
    "    return target_t"
   ]
  },
  {
   "cell_type": "code",
   "execution_count": 127,
   "metadata": {
    "pycharm": {
     "name": "#%%\n"
    }
   },
   "outputs": [
    {
     "data": {
      "text/plain": "<Figure size 1152x648 with 2 Axes>",
      "image/png": "[encoded data removed]"
     },
     "metadata": {
      "needs_background": "light"
     },
     "output_type": "display_data"
    },
    {
     "name": "stdout",
     "output_type": "stream",
     "text": [
      "Target S: 1499.89680651, (input: 1499.6601472124637)\n",
      "Target rho: 9005.09798229 (input: 9029.718231186287)\n",
      "Target T: 1983.764825567463\n"
     ]
    },
    {
     "data": {
      "text/plain": "<Figure size 1152x648 with 1 Axes>",
      "image/png": "[encoded data removed]"
     },
     "metadata": {
      "needs_background": "light"
     },
     "output_type": "display_data"
    },
    {
     "name": "stdout",
     "output_type": "stream",
     "text": [
      "Iron Layer Thickness: 153.11138330276682 km\n"
     ]
    }
   ],
   "source": [
    "delta_density_exp = delta_rho(alpha=alpha_c, delta_T=assumed_dT, rho_0=impactor_iron_rho0)  # thermally expanded density\n",
    "density_exp = impactor_iron_rho0 + delta_density_exp  # rho = rho_0 + delta rho\n",
    "new_temp = isentropic_heating(eos=iron_eos, density=density_exp, entropy=impactor_iron_entropy)  # isentropic temperature increase\n",
    "thickness_layer = iron_layer_thickness(density=density_exp, mass=iron_layer_mass, core_radius=core_radius)\n",
    "\n",
    "print(\"Iron Layer Thickness: {} km\".format(thickness_layer / 1000))"
   ]
  },
  {
   "cell_type": "code",
   "execution_count": 128,
   "metadata": {
    "pycharm": {
     "name": "#%%\n"
    }
   },
   "outputs": [],
   "source": [
    "# declare functions for thermal convection model\n",
    "\n",
    "def flux_conductive_adiabatic(k, alpha, g, T, c):\n",
    "    \"\"\"\n",
    "    The conductive heat flux along an adiabat (Reese & Solomotov 2010, eq. 40).\n",
    "    This gives the MINIMUM heat flux required for CONVECTION in the layer (Reese & Solomotov 2010).\n",
    "    :param k:\n",
    "    :param alpha:\n",
    "    :param g:\n",
    "    :param T:\n",
    "    :param c_c:\n",
    "    :return:\n",
    "    \"\"\"\n",
    "    return (k * alpha * g * T) / c\n",
    "\n",
    "def velocity_convective(flux_convective, g, alpha, length, rho, c):\n",
    "    \"\"\"\n",
    "    The convective velocity.  (Reese and Solomotov 2010).\n",
    "    :param flux_convective:\n",
    "    :param g:\n",
    "    :param alpha:\n",
    "    :param length:\n",
    "    :param rho:\n",
    "    :param c:\n",
    "    :return:\n",
    "    \"\"\"\n",
    "    return ((flux_convective * g * alpha * length) / (rho * c)) ** (1 / 3)\n",
    "\n",
    "def reynolds_magnetic(v_conv, z):\n",
    "    \"\"\"\n",
    "    The magnetic Reynolds Number (Re).\n",
    "    The critical value for a magentic field is 10 (Reese & Solomotov 2010).\n",
    "    :param v_conv:\n",
    "    :param z:\n",
    "    :param sigma:\n",
    "    :return:\n",
    "    \"\"\"\n",
    "    return (v_conv * z) / (mu_0 * sigma)\n",
    "\n",
    "def magnetic_field_strength(rho, alpha, g, flux, thickness, core_radius, c):\n",
    "    \"\"\"\n",
    "    The magnetic field strength scaling law, from Reese & Solomotov 2010 as proposed by\n",
    "    Christensen & Aubert 2006.\n",
    "    :param rho:\n",
    "    :param alpha:\n",
    "    :param g:\n",
    "    :param flux:\n",
    "    :param thickness:\n",
    "    :param core_radius:\n",
    "    :param c:\n",
    "    :return:\n",
    "    \"\"\"\n",
    "    term1 = (mu_0 ** (1/2)) * (rho ** (1 / 6))\n",
    "    term2 = ((alpha * g * flux * thickness) / (4 * pi * c * (core_radius ** 2))) ** (1 / 3)\n",
    "    return term1 * term2\n"
   ]
  },
  {
   "cell_type": "code",
   "execution_count": 129,
   "outputs": [
    {
     "name": "stdout",
     "output_type": "stream",
     "text": [
      "Adiabatic Conductive Flux (lower conductivity): 0.011576684732061552 W/m^2\n",
      "Adiabatic Conductive Flux (upper conductivity): 0.02369181991677713 W/m^2\n",
      "Convective Velocity (lower conductivity): 0.00298662721192088 m/s\n",
      "Convective Velocity (upper conductivity): 0.003791861126127003 m/s\n",
      "Magnetic Reynolds Number (lower conductivity): 363.89713295926947\n",
      "Magnetic Reynolds Number (upper conductivity): 462.00857839564793\n",
      "Magnetic Field Strength (lower conductivity): 5.952071951127929e-09 T\n",
      "Magnetic Field Strength (upper conductivity): 7.556828706746142e-09 T\n"
     ]
    }
   ],
   "source": [
    "# get the values necessary to describe convection and magnetic field in the iron layer\n",
    "f_c_lower = flux_conductive_adiabatic(k=k_lower, alpha=alpha_c, T=new_temp, c=c_c, g=grav_iron_layer)\n",
    "f_c_upper = flux_conductive_adiabatic(k=k_upper, alpha=alpha_c, T=new_temp, c=c_c, g=grav_iron_layer)\n",
    "v_lower = velocity_convective(flux_convective=f_c_lower, g=grav_iron_layer, alpha=alpha_c, length=thickness_layer, c=c_c, rho=density_exp)\n",
    "v_upper = velocity_convective(flux_convective=f_c_upper, g=grav_iron_layer, alpha=alpha_c, length=thickness_layer, c=c_c, rho=density_exp)\n",
    "re_mag_lower = reynolds_magnetic(v_conv=v_lower, z=thickness_layer)\n",
    "re_mag_upper = reynolds_magnetic(v_conv=v_upper, z=thickness_layer)\n",
    "b_lower = magnetic_field_strength(rho=density_exp, alpha=alpha_c, g=grav_iron_layer, flux=f_c_lower,\n",
    "                                  thickness=thickness_layer, core_radius=core_radius, c=c_c)\n",
    "b_upper = magnetic_field_strength(rho=density_exp, alpha=alpha_c, g=grav_iron_layer, flux=f_c_upper,\n",
    "                                  thickness=thickness_layer, core_radius=core_radius, c=c_c)\n",
    "\n",
    "print(\n",
    "    \"Adiabatic Conductive Flux (lower conductivity): {} W/m^2\\n\"\n",
    "    \"Adiabatic Conductive Flux (upper conductivity): {} W/m^2\\n\"\n",
    "    \"Convective Velocity (lower conductivity): {} m/s\\n\"\n",
    "    \"Convective Velocity (upper conductivity): {} m/s\\n\"\n",
    "    \"Magnetic Reynolds Number (lower conductivity): {}\\n\"\n",
    "    \"Magnetic Reynolds Number (upper conductivity): {}\\n\"\n",
    "    \"Magnetic Field Strength (lower conductivity): {} T\\n\"\n",
    "    \"Magnetic Field Strength (upper conductivity): {} T\".format(f_c_lower, f_c_upper, v_lower, v_upper, re_mag_lower, re_mag_upper, b_lower, b_upper)\n",
    ")"
   ],
   "metadata": {
    "collapsed": false,
    "pycharm": {
     "name": "#%%\n"
    }
   }
  },
  {
   "cell_type": "code",
   "execution_count": 129,
   "outputs": [],
   "source": [],
   "metadata": {
    "collapsed": false,
    "pycharm": {
     "name": "#%%\n"
    }
   }
  },
  {
   "cell_type": "markdown",
   "source": [],
   "metadata": {
    "collapsed": false
   }
  }
 ],
 "metadata": {
  "kernelspec": {
   "display_name": "Python 3 (ipykernel)",
   "language": "python",
   "name": "python3"
  },
  "language_info": {
   "codemirror_mode": {
    "name": "ipython",
    "version": 3
   },
   "file_extension": ".py",
   "mimetype": "text/x-python",
   "name": "python",
   "nbconvert_exporter": "python",
   "pygments_lexer": "ipython3",
   "version": "3.7.4"
  }
 },
 "nbformat": 4,
 "nbformat_minor": 1
}